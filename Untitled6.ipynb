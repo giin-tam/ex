{
 "cells": [
  {
   "cell_type": "code",
   "execution_count": 82,
   "id": "ad3b7e7e",
   "metadata": {},
   "outputs": [
    {
     "name": "stdout",
     "output_type": "stream",
     "text": [
      "(1, 2, 3)\n"
     ]
    }
   ],
   "source": [
    "class  Point3D():\n",
    "    def __init__(self,x,y,z,):\n",
    "        self.x=x\n",
    "        self.y=y\n",
    "        self.z=z\n",
    "    def lol(self):\n",
    "        return(self.x,self.y,self.z)\n",
    "\n",
    "my_point=Point3D(1,2,3)\n",
    "print(my_point.lol())"
   ]
  },
  {
   "cell_type": "code",
   "execution_count": 78,
   "id": "98a6198c",
   "metadata": {},
   "outputs": [
    {
     "name": "stdout",
     "output_type": "stream",
     "text": [
      "14\n",
      "12\n"
     ]
    }
   ],
   "source": [
    "class fol() :\n",
    "    def __init__(self,x,y):\n",
    "        self.width=x\n",
    "        self.length=y\n",
    "    def per(self):\n",
    "        return (self.width+self.length)*2\n",
    "    def air(self):\n",
    "        return self.width*self.length\n",
    "my_rectangle=fol(3,4)   \n",
    "print(my_rectangle.per())\n",
    "print(my_rectangle.air())\n",
    "    \n"
   ]
  },
  {
   "cell_type": "code",
   "execution_count": 91,
   "id": "42831416",
   "metadata": {},
   "outputs": [
    {
     "name": "stdout",
     "output_type": "stream",
     "text": [
      "78.5\n",
      "31.400000000000002\n",
      "yes A inside the cercle\n",
      "None\n"
     ]
    }
   ],
   "source": [
    "class circle():\n",
    "    def __init__(self,r,o,x,y):\n",
    "        self.r=r\n",
    "        self.o=o\n",
    "        self.x=x\n",
    "        self.y=y\n",
    "    def air(self):\n",
    "        return self.r**2*3.14\n",
    "    def per(self):\n",
    "        return self.r*2*3.14\n",
    "    def opp(self):\n",
    "        if self.y**2+self.x**2<=self.r**2 :\n",
    "            return print(\"yes A inside the cercle\")\n",
    "        else :\n",
    "            return print(\"A is not inside it\")\n",
    "cir=circle(5,0,1,4)\n",
    "print(cir.air())\n",
    "print(cir.per())\n",
    "print(cir.opp())"
   ]
  },
  {
   "cell_type": "code",
   "execution_count": 93,
   "id": "ada209e2",
   "metadata": {},
   "outputs": [
    {
     "name": "stdout",
     "output_type": "stream",
     "text": [
      "put ur amount to put50\n",
      "150\n",
      "put the amount to get200\n",
      "-100\n"
     ]
    }
   ],
   "source": [
    "class bank():\n",
    "    def __init__(self,balance):\n",
    "        self.balance=balance\n",
    "    def put(self):\n",
    "        s=int(input(\"put ur amount to put\"))\n",
    "        return self.balance+s\n",
    "    def get(self):\n",
    "        s=int(input(\"put the amount to get\"))\n",
    "        return self.balance-s\n",
    "my_account=bank(100)\n",
    "print(my_account.put())\n",
    "print(my_account.get())"
   ]
  },
  {
   "cell_type": "code",
   "execution_count": null,
   "id": "2cb8c78e",
   "metadata": {},
   "outputs": [],
   "source": []
  }
 ],
 "metadata": {
  "kernelspec": {
   "display_name": "Python 3 (ipykernel)",
   "language": "python",
   "name": "python3"
  },
  "language_info": {
   "codemirror_mode": {
    "name": "ipython",
    "version": 3
   },
   "file_extension": ".py",
   "mimetype": "text/x-python",
   "name": "python",
   "nbconvert_exporter": "python",
   "pygments_lexer": "ipython3",
   "version": "3.9.12"
  }
 },
 "nbformat": 4,
 "nbformat_minor": 5
}
